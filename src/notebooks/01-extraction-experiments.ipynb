{
 "cells": [
  {
   "cell_type": "markdown",
   "id": "e21a8450",
   "metadata": {},
   "source": [
    "# PDF text extraction\n",
    "\n",
    "This notebook covers the experiments done for PDF text extraction"
   ]
  },
  {
   "cell_type": "code",
   "execution_count": null,
   "id": "40758d6d",
   "metadata": {},
   "outputs": [],
   "source": [
    "pdf_path = \"../../data/cao-pdfs/Cao Bouw en Infra 2025 - 2027.pdf\""
   ]
  },
  {
   "cell_type": "markdown",
   "id": "930419e3",
   "metadata": {},
   "source": [
    "## MarkItDown\n",
    "\n",
    "Link: https://github.com/microsoft/markitdown"
   ]
  },
  {
   "cell_type": "code",
   "execution_count": null,
   "id": "f6f7b1d1",
   "metadata": {},
   "outputs": [],
   "source": [
    "from markitdown import MarkItDown\n",
    "\n",
    "md = MarkItDown(enable_plugins=True) # Set to True to enable plugins\n",
    "# Load the PDF file\n",
    "result = md.convert(pdf_path)\n",
    "\n",
    "print(result)"
   ]
  },
  {
   "cell_type": "code",
   "execution_count": null,
   "id": "a254550d",
   "metadata": {},
   "outputs": [],
   "source": [
    "print(result.markdown)"
   ]
  },
  {
   "cell_type": "markdown",
   "id": "a306a8f9",
   "metadata": {},
   "source": [
    "## Docling\n",
    "\n",
    "Link: https://github.com/docling-project/docling"
   ]
  },
  {
   "cell_type": "code",
   "execution_count": null,
   "id": "f14686ea",
   "metadata": {},
   "outputs": [],
   "source": [
    "from pathlib import Path\n",
    "\n",
    "import pandas as pd\n",
    "\n",
    "from docling.document_converter import DocumentConverter\n",
    "\n",
    "converter = DocumentConverter()"
   ]
  },
  {
   "cell_type": "code",
   "execution_count": null,
   "id": "808ba38a",
   "metadata": {},
   "outputs": [],
   "source": [
    "from docling.datamodel.accelerator_options import AcceleratorDevice, AcceleratorOptions\n",
    "from docling.datamodel.base_models import InputFormat\n",
    "from docling.datamodel.pipeline_options import (\n",
    "    PdfPipelineOptions,\n",
    ")\n",
    "from docling.datamodel.settings import settings\n",
    "from docling.document_converter import DocumentConverter, PdfFormatOption\n",
    "\n",
    "# Explicitly set the accelerator\n",
    "# accelerator_options = AcceleratorOptions(\n",
    "#     num_threads=8, device=AcceleratorDevice.AUTO\n",
    "# )\n",
    "# accelerator_options = AcceleratorOptions(\n",
    "#     num_threads=8, device=AcceleratorDevice.CPU\n",
    "# )\n",
    "# accelerator_options = AcceleratorOptions(\n",
    "#     num_threads=8, device=AcceleratorDevice.MPS\n",
    "# )\n",
    "accelerator_options = AcceleratorOptions(\n",
    "    num_threads=8, device=AcceleratorDevice.CUDA\n",
    ")\n",
    "\n",
    "pipeline_options = PdfPipelineOptions()\n",
    "pipeline_options.accelerator_options = accelerator_options\n",
    "pipeline_options.do_ocr = False\n",
    "pipeline_options.do_table_structure = True\n",
    "pipeline_options.table_structure_options.do_cell_matching = True\n",
    "\n",
    "converter = DocumentConverter(\n",
    "    format_options={\n",
    "        InputFormat.PDF: PdfFormatOption(\n",
    "            pipeline_options=pipeline_options,\n",
    "        )\n",
    "    }\n",
    ")"
   ]
  },
  {
   "cell_type": "code",
   "execution_count": null,
   "id": "4893768c",
   "metadata": {},
   "outputs": [],
   "source": [
    "# Convert the document\n",
    "conversion_result = converter.convert(pdf_path)"
   ]
  },
  {
   "cell_type": "code",
   "execution_count": null,
   "id": "9c1cc06e",
   "metadata": {},
   "outputs": [],
   "source": [
    "output_dir = Path(\"scratch\")\n",
    "output_dir.mkdir(parents=True, exist_ok=True)\n",
    "\n",
    "doc_filename = conversion_result.input.file.stem"
   ]
  },
  {
   "cell_type": "code",
   "execution_count": null,
   "id": "8991763a",
   "metadata": {},
   "outputs": [],
   "source": [
    "print(f\"Document has {len(conversion_result.document.pages)} pages and {len(conversion_result.document.tables)} tables.\")\n",
    "print(f\"Document text content:\\n{conversion_result.document.export_to_markdown()}...\")"
   ]
  },
  {
   "cell_type": "code",
   "execution_count": null,
   "id": "7ac4963e",
   "metadata": {},
   "outputs": [],
   "source": [
    "# Export tables\n",
    "for table_ix, table in enumerate(conversion_result.document.tables):\n",
    "    table_df: pd.DataFrame = table.export_to_dataframe(doc=conversion_result.document)\n",
    "    print(f\"## Table {table_ix}\")\n",
    "    print(table_df.to_markdown())\n",
    "\n",
    "    # Save the table as CSV\n",
    "    element_csv_filename = output_dir / f\"{doc_filename}-table-{table_ix + 1}.csv\"\n",
    "    table_df.to_csv(element_csv_filename)"
   ]
  },
  {
   "cell_type": "markdown",
   "id": "051ae248",
   "metadata": {},
   "source": [
    "## PDFPlumber\n",
    "\n",
    "Link: https://github.com/jsvine/pdfplumber"
   ]
  },
  {
   "cell_type": "code",
   "execution_count": null,
   "id": "046a66ef",
   "metadata": {},
   "outputs": [],
   "source": [
    "import pdfplumber\n",
    "print(pdfplumber.__version__)\n",
    "\n",
    "pdf = pdfplumber.open(pdf_path)"
   ]
  },
  {
   "cell_type": "code",
   "execution_count": null,
   "id": "45117943",
   "metadata": {},
   "outputs": [],
   "source": [
    "page = pdf.pages[7]\n",
    "im = page.to_image()\n",
    "im"
   ]
  },
  {
   "cell_type": "code",
   "execution_count": null,
   "id": "8172396a",
   "metadata": {},
   "outputs": [],
   "source": [
    "text = page.extract_text()\n",
    "print(text)"
   ]
  },
  {
   "cell_type": "code",
   "execution_count": null,
   "id": "c3b0a55a",
   "metadata": {},
   "outputs": [],
   "source": [
    "table = page.extract_tables()\n",
    "print(table)"
   ]
  },
  {
   "cell_type": "markdown",
   "id": "db3530b9",
   "metadata": {},
   "source": [
    "## PyMUPDF\n",
    "\n",
    "Link: https://github.com/pymupdf/PyMuPDF"
   ]
  },
  {
   "cell_type": "code",
   "execution_count": null,
   "id": "b1da04ed",
   "metadata": {},
   "outputs": [],
   "source": [
    "import pymupdf # imports the pymupdf library\n",
    "doc = pymupdf.open(pdf_path) # open a document\n",
    "#for page in doc: # iterate the document pages\n",
    "page = doc[7] # get page 7 (0-based)"
   ]
  },
  {
   "cell_type": "code",
   "execution_count": null,
   "id": "e0b9d918",
   "metadata": {},
   "outputs": [],
   "source": [
    "text = page.get_text() # get plain text encoded as UTF-8\n",
    "print(text)"
   ]
  },
  {
   "cell_type": "code",
   "execution_count": null,
   "id": "2cdc2ed5",
   "metadata": {},
   "outputs": [],
   "source": [
    "tables = page.find_tables()\n",
    "table = tables[0].to_pandas()\n",
    "print(table.to_markdown())"
   ]
  },
  {
   "cell_type": "markdown",
   "id": "e35d4801",
   "metadata": {},
   "source": [
    "## Azure Document Intelligence\n",
    "\n",
    "Link: https://github.com/Azure-Samples/document-intelligence-code-samples"
   ]
  },
  {
   "cell_type": "code",
   "execution_count": null,
   "id": "b2f02c46",
   "metadata": {},
   "outputs": [],
   "source": [
    "import os\n",
    "from azure.core.credentials import AzureKeyCredential\n",
    "from azure.ai.documentintelligence import DocumentIntelligenceClient\n",
    "from azure.ai.documentintelligence.models import AnalyzeDocumentRequest, DocumentContentFormat"
   ]
  },
  {
   "cell_type": "code",
   "execution_count": null,
   "id": "c8b7fd1c",
   "metadata": {},
   "outputs": [],
   "source": [
    "def analyze_layout_from_url():\n",
    "    # Set your endpoint and key from environment variables\n",
    "    # For how to set them, see PREREQUISITES above.\n",
    "    endpoint = os.environ[\"DOCUMENTINTELLIGENCE_ENDPOINT\"]\n",
    "    key = os.environ[\"DOCUMENTINTELLIGENCE_API_KEY\"]\n",
    "\n",
    "    document_intelligence_client = DocumentIntelligenceClient(\n",
    "        endpoint=endpoint, credential=AzureKeyCredential(key)\n",
    "    )\n",
    "\n",
    "    file = open(pdf_path, \"rb\")\n",
    "\n",
    "    # convert to bytes\n",
    "    pdf_bytes = file.read()\n",
    "\n",
    "    # Analyze a sample document layout    \n",
    "    poller = document_intelligence_client.begin_analyze_document(\n",
    "        \"prebuilt-layout\", \n",
    "        AnalyzeDocumentRequest(bytes_source=pdf_bytes),\n",
    "    )\n",
    "    result = poller.result()\n",
    "\n",
    "    return result"
   ]
  },
  {
   "cell_type": "code",
   "execution_count": null,
   "id": "0455431e",
   "metadata": {},
   "outputs": [],
   "source": [
    "def print_layout_analysis(result):\n",
    "    # Analyze styles (e.g., whether the document contains handwritten content)\n",
    "    # if result.styles:\n",
    "    #     for idx, style in enumerate(result.styles):\n",
    "    #         print(\n",
    "    #             \"Document contains {} content\".format(\n",
    "    #                 \"handwritten\" if style.is_handwritten else \"no handwritten\"\n",
    "    #             )\n",
    "    #         )\n",
    "\n",
    "    # Analyze pages\n",
    "    # for page in result.pages:\n",
    "    #     print(f\"----Analyzing layout from page #{page.page_number}----\")\n",
    "\n",
    "    #     # Analyze lines\n",
    "    #     if page.lines:\n",
    "    #         for line_idx, line in enumerate(page.lines):\n",
    "    #             print(\n",
    "    #                 f\"...Line #{line_idx} has text content '{line.content}'\"\n",
    "    #             )\n",
    "\n",
    "    # Analyze tables\n",
    "    if result.tables:\n",
    "        print(f\"----Analyzing {len(result.tables)} tables found in the document----\")\n",
    "        for table_idx, table in enumerate(result.tables[4:]):\n",
    "            print(\n",
    "                f\"Table #{table_idx} has {table.row_count} rows and {table.column_count} columns\"\n",
    "            )\n",
    "            for cell in table.cells:\n",
    "                print(\n",
    "                    f\"...Cell[{cell.row_index}][{cell.column_index}] has content '{cell.content}'\"\n",
    "                )\n",
    "\n",
    "    print(\"----------------------------------------\")"
   ]
  },
  {
   "cell_type": "code",
   "execution_count": null,
   "id": "4b3a1fa1",
   "metadata": {},
   "outputs": [],
   "source": [
    "from azure.core.exceptions import HttpResponseError\n",
    "from dotenv import find_dotenv, load_dotenv\n",
    "\n",
    "try:\n",
    "    load_dotenv(find_dotenv())\n",
    "    result = analyze_layout_from_url()\n",
    "except HttpResponseError as error:\n",
    "    # Examples of how to check an HttpResponseError\n",
    "    if error.error is not None:\n",
    "        if error.error.code == \"InvalidImage\":\n",
    "            print(f\"Received an invalid image error: {error.error}\")\n",
    "        elif error.error.code == \"InvalidRequest\":\n",
    "            print(f\"Received an invalid request error: {error.error}\")\n",
    "        raise\n",
    "    if \"Invalid request\".casefold() in error.message.casefold():\n",
    "        print(f\"Uh-oh! Seems there was an invalid request: {error}\")\n",
    "    raise"
   ]
  },
  {
   "cell_type": "code",
   "execution_count": null,
   "id": "9fe07f66",
   "metadata": {},
   "outputs": [],
   "source": [
    "for table in result.tables[5:6]:\n",
    "    print(f\"----Analyzing table with {table.row_count} rows and {table.column_count} columns----\")\n",
    "    for cell in table.cells:\n",
    "        # print the table like a markdown table\n",
    "        print(f\"| {cell.content} \", end=\"\")\n",
    "        if cell.column_index == table.column_count - 1:\n",
    "            print(\"|\")"
   ]
  },
  {
   "cell_type": "code",
   "execution_count": null,
   "id": "1705bdb8",
   "metadata": {},
   "outputs": [],
   "source": [
    "try:\n",
    "    print_layout_analysis(result)\n",
    "except HttpResponseError as error:\n",
    "    # Examples of how to check an HttpResponseError\n",
    "    if error.error is not None:\n",
    "        if error.error.code == \"InvalidImage\":\n",
    "            print(f\"Received an invalid image error: {error.error}\")\n",
    "        elif error.error.code == \"InvalidRequest\":\n",
    "            print(f\"Received an invalid request error: {error.error}\")\n",
    "        raise\n",
    "    if \"Invalid request\".casefold() in error.message.casefold():\n",
    "        print(f\"Uh-oh! Seems there was an invalid request: {error}\")\n",
    "    raise"
   ]
  }
 ],
 "metadata": {
  "kernelspec": {
   "display_name": "cao-processor",
   "language": "python",
   "name": "python3"
  },
  "language_info": {
   "codemirror_mode": {
    "name": "ipython",
    "version": 3
   },
   "file_extension": ".py",
   "mimetype": "text/x-python",
   "name": "python",
   "nbconvert_exporter": "python",
   "pygments_lexer": "ipython3",
   "version": "3.13.3"
  }
 },
 "nbformat": 4,
 "nbformat_minor": 5
}
