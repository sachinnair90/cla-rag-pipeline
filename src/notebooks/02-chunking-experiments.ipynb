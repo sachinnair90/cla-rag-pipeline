{
 "cells": [
  {
   "cell_type": "markdown",
   "id": "51294f66",
   "metadata": {},
   "source": [
    "# Chunking Experiments\n",
    "\n",
    "This notebook contains code for testing best chunking strategies, libraries and snippets."
   ]
  },
  {
   "cell_type": "code",
   "execution_count": 1,
   "id": "856f2f04",
   "metadata": {},
   "outputs": [],
   "source": [
    "pdf_path = \"../../data/cao-pdfs/Cao Bouw en Infra 2025 - 2027.pdf\""
   ]
  },
  {
   "cell_type": "code",
   "execution_count": 3,
   "id": "aaf0caf6",
   "metadata": {},
   "outputs": [
    {
     "name": "stdout",
     "output_type": "stream",
     "text": [
      "PyTorch version: 2.8.0+cu129\n",
      "CUDA is available. Using GPU: NVIDIA GeForce RTX 5080 Laptop GPU: 1 GPU(s)\n"
     ]
    }
   ],
   "source": [
    "import torch\n",
    "\n",
    "print(f\"PyTorch version: {torch.__version__}\")\n",
    "\n",
    "if torch.cuda.is_available():\n",
    "    print(f\"CUDA is available. Using GPU: {torch.cuda.get_device_name(0)}: {torch.cuda.device_count()} GPU(s)\")\n",
    "else:\n",
    "    print(\"CUDA is not available. Using CPU.\")\n",
    "    print(f\"{torch.cpu.device_count()} CPU core(s) available\")\n"
   ]
  },
  {
   "cell_type": "code",
   "execution_count": 4,
   "id": "6473e824",
   "metadata": {},
   "outputs": [
    {
     "name": "stderr",
     "output_type": "stream",
     "text": [
      "c:\\repos\\cao-processor\\.venv\\Lib\\site-packages\\tqdm\\auto.py:21: TqdmWarning: IProgress not found. Please update jupyter and ipywidgets. See https://ipywidgets.readthedocs.io/en/stable/user_install.html\n",
      "  from .autonotebook import tqdm as notebook_tqdm\n"
     ]
    }
   ],
   "source": [
    "from pathlib import Path\n",
    "\n",
    "import pandas as pd\n",
    "\n",
    "from docling.document_converter import DocumentConverter\n",
    "\n",
    "converter = DocumentConverter() "
   ]
  },
  {
   "cell_type": "code",
   "execution_count": 4,
   "id": "09783e4a",
   "metadata": {},
   "outputs": [],
   "source": [
    "from docling.datamodel.accelerator_options import AcceleratorDevice, AcceleratorOptions\n",
    "from docling.datamodel.base_models import InputFormat\n",
    "from docling.datamodel.pipeline_options import (\n",
    "    PdfPipelineOptions,\n",
    ")\n",
    "from docling.datamodel.settings import settings\n",
    "from docling.document_converter import DocumentConverter, PdfFormatOption\n",
    "\n",
    "# Explicitly set the accelerator options\n",
    "accelerator_options = AcceleratorOptions(\n",
    "    num_threads=8, device=AcceleratorDevice.CUDA\n",
    ")\n",
    "\n",
    "pipeline_options = PdfPipelineOptions()\n",
    "pipeline_options.accelerator_options = accelerator_options\n",
    "pipeline_options.do_ocr = False\n",
    "pipeline_options.do_table_structure = True\n",
    "pipeline_options.table_structure_options.do_cell_matching = True\n",
    "\n",
    "converter = DocumentConverter(\n",
    "    format_options={\n",
    "        InputFormat.PDF: PdfFormatOption(\n",
    "            pipeline_options=pipeline_options,\n",
    "        )\n",
    "    }\n",
    ")"
   ]
  },
  {
   "cell_type": "code",
   "execution_count": 5,
   "id": "f256ba05",
   "metadata": {},
   "outputs": [
    {
     "name": "stderr",
     "output_type": "stream",
     "text": [
      "2025-09-21 01:41:07,228 - INFO - detected formats: [<InputFormat.PDF: 'pdf'>]\n",
      "2025-09-21 01:41:07,288 - INFO - Going to convert document batch...\n",
      "2025-09-21 01:41:07,289 - INFO - Initializing pipeline for StandardPdfPipeline with options hash 12a1aaae4d2de3c2950eea38387e79f2\n",
      "2025-09-21 01:41:07,302 - INFO - Loading plugin 'docling_defaults'\n",
      "2025-09-21 01:41:07,305 - INFO - Registered picture descriptions: ['vlm', 'api']\n",
      "2025-09-21 01:41:07,319 - INFO - Loading plugin 'docling_defaults'\n",
      "2025-09-21 01:41:07,325 - INFO - Registered ocr engines: ['easyocr', 'ocrmac', 'rapidocr', 'tesserocr', 'tesseract']\n",
      "2025-09-21 01:41:07,347 - INFO - Accelerator device: 'cuda:0'\n",
      "2025-09-21 01:41:09,126 - INFO - Accelerator device: 'cuda:0'\n",
      "2025-09-21 01:41:09,707 - INFO - Processing document Cao Bouw en Infra 2025 - 2027.pdf\n",
      "2025-09-21 01:42:16,019 - INFO - Finished converting document Cao Bouw en Infra 2025 - 2027.pdf in 68.79 sec.\n"
     ]
    }
   ],
   "source": [
    "# Convert the document\n",
    "conversion_result = converter.convert(pdf_path)"
   ]
  },
  {
   "cell_type": "code",
   "execution_count": 6,
   "id": "7b126ac1",
   "metadata": {},
   "outputs": [],
   "source": [
    "output_dir = Path(\"outputs/02-chunking-experiments\")\n",
    "output_dir.mkdir(parents=True, exist_ok=True)\n",
    "\n",
    "doc_filename = conversion_result.input.file.stem"
   ]
  },
  {
   "cell_type": "code",
   "execution_count": 7,
   "id": "08184381",
   "metadata": {},
   "outputs": [
    {
     "name": "stdout",
     "output_type": "stream",
     "text": [
      "Document has 178 pages and 68 tables.\n"
     ]
    }
   ],
   "source": [
    "print(f\"Document has {len(conversion_result.document.pages)} pages and {len(conversion_result.document.tables)} tables.\")\n",
    "# print(f\"Document text content:\\n{conversion_result.document.export_to_markdown()}...\")"
   ]
  },
  {
   "cell_type": "code",
   "execution_count": 8,
   "id": "f6935d3d",
   "metadata": {},
   "outputs": [
    {
     "data": {
      "text/plain": [
       "'\\nfor table_ix, table in enumerate(conversion_result.document.tables):\\n    table_df: pd.DataFrame = table.export_to_dataframe(doc=conversion_result.document)\\n    print(f\"## Table {table_ix}\")\\n    print(table_df.to_markdown())\\n\\n    # Save the table as CSV\\n    element_csv_filename = output_dir / f\"{doc_filename}-table-{table_ix + 1}.csv\"\\n    table_df.to_csv(element_csv_filename)\\n'"
      ]
     },
     "execution_count": 8,
     "metadata": {},
     "output_type": "execute_result"
    }
   ],
   "source": [
    "# Export tables\n",
    "'''\n",
    "for table_ix, table in enumerate(conversion_result.document.tables):\n",
    "    table_df: pd.DataFrame = table.export_to_dataframe(doc=conversion_result.document)\n",
    "    print(f\"## Table {table_ix}\")\n",
    "    print(table_df.to_markdown())\n",
    "\n",
    "    # Save the table as CSV\n",
    "    element_csv_filename = output_dir / f\"{doc_filename}-table-{table_ix + 1}.csv\"\n",
    "    table_df.to_csv(element_csv_filename)\n",
    "'''"
   ]
  },
  {
   "cell_type": "markdown",
   "id": "2184fc24",
   "metadata": {},
   "source": [
    "## Chunking\n",
    "\n",
    "We convert the Document into smaller chunks for embedding and indexing. The built-in HierarchicalChunker preserves structure.\n"
   ]
  },
  {
   "cell_type": "code",
   "execution_count": 9,
   "id": "ab62dda6",
   "metadata": {},
   "outputs": [
    {
     "name": "stdout",
     "output_type": "stream",
     "text": [
      "Total chunks from PDF: 872\n"
     ]
    }
   ],
   "source": [
    "from docling.chunking import HierarchicalChunker\n",
    "\n",
    "chunker = HierarchicalChunker()\n",
    "doc_chunks = list(chunker.chunk(conversion_result.document))\n",
    "\n",
    "all_chunks = []\n",
    "for idx, c in enumerate(doc_chunks):\n",
    "    chunk_text = c.text\n",
    "    all_chunks.append((f\"chunk_{idx}\", chunk_text))\n",
    "\n",
    "print(f\"Total chunks from PDF: {len(all_chunks)}\")"
   ]
  },
  {
   "cell_type": "markdown",
   "id": "46433b1f",
   "metadata": {},
   "source": [
    "### Part 3: Create Azure AI Search Index and Push Chunk Embeddings\n",
    "We’ll define a vector index in Azure AI Search, then embed each chunk using Azure OpenAI and upload in batches."
   ]
  },
  {
   "cell_type": "code",
   "execution_count": 2,
   "id": "c8068fe2",
   "metadata": {},
   "outputs": [
    {
     "name": "stdout",
     "output_type": "stream",
     "text": [
      "gpt-5-nano\n"
     ]
    }
   ],
   "source": [
    "import os\n",
    "from dotenv import load_dotenv\n",
    "\n",
    "load_dotenv()\n",
    "\n",
    "AZURE_SEARCH_ENDPOINT = os.getenv(\"AZURE_SEARCH_ENDPOINT\")\n",
    "AZURE_SEARCH_API_KEY = os.getenv(\"AZURE_SEARCH_API_KEY\")  # Ensure this is your Admin Key\n",
    "AZURE_SEARCH_INDEX_NAME = os.getenv(\"AZURE_SEARCH_INDEX_NAME\", \"cao-rag-sample\")\n",
    "AZURE_OPENAI_ENDPOINT = os.getenv(\"AZURE_OPENAI_ENDPOINT\")\n",
    "AZURE_OPENAI_API_KEY = os.getenv(\"AZURE_OPENAI_API_KEY\")\n",
    "AZURE_OPENAI_API_VERSION = os.getenv(\"AZURE_OPENAI_API_VERSION\", \"2024-10-21\")\n",
    "AZURE_OPENAI_CHAT_MODEL_NAME = os.getenv(\n",
    "    \"AZURE_OPENAI_CHAT_MODEL_NAME\"\n",
    ")\n",
    "AZURE_OPENAI_EMBEDDING_DEPLOYMENT_NAME = os.getenv(\n",
    "    \"AZURE_OPENAI_EMBEDDING_DEPLOYMENT_NAME\", \"text-embedding-3-large\"\n",
    ")  # Using a deployed model named \"text-embeddings-3-large\n",
    "AZURE_OPENAI_EMBEDDING_MODEL_NAME = os.getenv(\n",
    "    \"AZURE_OPENAI_EMBEDDING_MODEL_NAME\", \"text-embedding-3-large\"\n",
    ")  # Using a deployed model named \"text-embeddings-3-large\n",
    "print(AZURE_OPENAI_CHAT_MODEL_NAME)"
   ]
  },
  {
   "cell_type": "code",
   "execution_count": 8,
   "id": "97ec4de4",
   "metadata": {},
   "outputs": [],
   "source": [
    "from azure.core.credentials import AzureKeyCredential\n",
    "from azure.search.documents.indexes import SearchIndexClient\n",
    "from azure.search.documents.indexes.models import (\n",
    "    AzureOpenAIVectorizer,\n",
    "    AzureOpenAIVectorizerParameters,\n",
    "    HnswAlgorithmConfiguration,\n",
    "    SearchableField,\n",
    "    SearchField,\n",
    "    SearchFieldDataType,\n",
    "    SearchIndex,\n",
    "    SimpleField,\n",
    "    VectorSearch,\n",
    "    VectorSearchProfile,\n",
    ")\n",
    "\n",
    "VECTOR_DIM = 2048  # Adjust based on your chosen embeddings model\n",
    "VECTOR_FIELD_NAME = \"content_vector\"\n",
    "CONTENT_FIELD_NAME = \"content\"\n",
    "\n",
    "index_client = SearchIndexClient(\n",
    "    AZURE_SEARCH_ENDPOINT, AzureKeyCredential(AZURE_SEARCH_API_KEY)\n",
    ")\n",
    "\n",
    "def create_search_index(index_name: str):\n",
    "    # Define fields\n",
    "    fields = [\n",
    "        SimpleField(name=\"chunk_id\", type=SearchFieldDataType.String, key=True),\n",
    "        SearchableField(name=CONTENT_FIELD_NAME, type=SearchFieldDataType.String),\n",
    "        SearchField(\n",
    "            name=VECTOR_FIELD_NAME,\n",
    "            type=SearchFieldDataType.Collection(SearchFieldDataType.Single),\n",
    "            searchable=True,\n",
    "            filterable=False,\n",
    "            sortable=False,\n",
    "            facetable=False,\n",
    "            vector_search_dimensions=VECTOR_DIM,\n",
    "            vector_search_profile_name=\"default\",\n",
    "        ),\n",
    "    ]\n",
    "    # Vector search config with an AzureOpenAIVectorizer\n",
    "    vector_search = VectorSearch(\n",
    "        algorithms=[HnswAlgorithmConfiguration(name=\"default\")],\n",
    "        profiles=[\n",
    "            VectorSearchProfile(\n",
    "                name=\"default\",\n",
    "                algorithm_configuration_name=\"default\",\n",
    "                vectorizer_name=\"default\",\n",
    "            )\n",
    "        ],\n",
    "        vectorizers=[\n",
    "            AzureOpenAIVectorizer(\n",
    "                vectorizer_name=\"default\",\n",
    "                parameters=AzureOpenAIVectorizerParameters(\n",
    "                    resource_url=AZURE_OPENAI_ENDPOINT,\n",
    "                    deployment_name=AZURE_OPENAI_EMBEDDING_DEPLOYMENT_NAME,\n",
    "                    model_name=AZURE_OPENAI_EMBEDDING_MODEL_NAME,\n",
    "                    api_key=AZURE_OPENAI_API_KEY,\n",
    "                ),\n",
    "            )\n",
    "        ],\n",
    "    )\n",
    "\n",
    "    # Create or update the index\n",
    "    new_index = SearchIndex(name=index_name, fields=fields, vector_search=vector_search)\n",
    "    try:\n",
    "        index_client.delete_index(index_name)\n",
    "    except Exception:\n",
    "        pass\n",
    "\n",
    "    index_client.create_or_update_index(new_index)\n",
    "    print(f\"Index '{index_name}' created.\")"
   ]
  },
  {
   "cell_type": "code",
   "execution_count": null,
   "id": "9c9e3882",
   "metadata": {},
   "outputs": [],
   "source": [
    "create_search_index(AZURE_SEARCH_INDEX_NAME)"
   ]
  },
  {
   "cell_type": "markdown",
   "id": "eed36446",
   "metadata": {},
   "source": [
    "### Generate Embeddings and Upload to Azure AI Search"
   ]
  },
  {
   "cell_type": "code",
   "execution_count": 9,
   "id": "7fd86b59",
   "metadata": {},
   "outputs": [],
   "source": [
    "from azure.search.documents import SearchClient\n",
    "from openai import AzureOpenAI\n",
    "\n",
    "search_client = SearchClient(\n",
    "    AZURE_SEARCH_ENDPOINT, AZURE_SEARCH_INDEX_NAME, AzureKeyCredential(AZURE_SEARCH_API_KEY)\n",
    ")\n",
    "openai_client = AzureOpenAI(\n",
    "    api_key=AZURE_OPENAI_API_KEY,\n",
    "    api_version=AZURE_OPENAI_API_VERSION,\n",
    "    azure_endpoint=AZURE_OPENAI_ENDPOINT,\n",
    ")\n",
    "\n",
    "\n",
    "def embed_text(text: str):\n",
    "    \"\"\"\n",
    "    Helper to generate embeddings with Azure OpenAI.\n",
    "    \"\"\"\n",
    "    response = openai_client.embeddings.create(\n",
    "        input=text, model=AZURE_OPENAI_EMBEDDING_MODEL_NAME, dimensions=VECTOR_DIM\n",
    "    )\n",
    "    return response.data[0].embedding"
   ]
  },
  {
   "cell_type": "code",
   "execution_count": null,
   "id": "216718f2",
   "metadata": {},
   "outputs": [],
   "source": [
    "upload_docs = []\n",
    "for chunk_id, chunk_text in all_chunks:\n",
    "    embedding_vector = embed_text(chunk_text)\n",
    "    upload_docs.append(\n",
    "        {\n",
    "            \"chunk_id\": chunk_id,\n",
    "            \"content\": chunk_text,\n",
    "            \"content_vector\": embedding_vector,\n",
    "        }\n",
    "    )\n",
    "\n",
    "\n",
    "BATCH_SIZE = 50\n",
    "for i in range(0, len(upload_docs), BATCH_SIZE):\n",
    "    subset = upload_docs[i : i + BATCH_SIZE]\n",
    "    resp = search_client.upload_documents(documents=subset)\n",
    "\n",
    "    all_succeeded = all(r.succeeded for r in resp)\n",
    "    print(\n",
    "        f\"Uploaded batch {i} -> {i + len(subset)}; all_succeeded: {all_succeeded}, \"\n",
    "        f\"first_doc_status_code: {resp[0].status_code}\"\n",
    "    )\n",
    "\n",
    "print(\"All chunks uploaded to Azure Search.\")"
   ]
  },
  {
   "cell_type": "markdown",
   "id": "7a8affb3",
   "metadata": {},
   "source": [
    "### Part 4: Perform RAG over PDF\n",
    "Combine retrieval from Azure AI Search with Azure OpenAI Chat Completions (aka. grounding your LLM)"
   ]
  },
  {
   "cell_type": "code",
   "execution_count": 22,
   "id": "4361f458",
   "metadata": {},
   "outputs": [
    {
     "name": "stderr",
     "output_type": "stream",
     "text": [
      "2025-09-21 02:22:39,445 - INFO - HTTP Request: POST https://cao-intel-ai-services.openai.azure.com/openai/deployments/text-embedding-3-large/embeddings?api-version=2024-12-01-preview \"HTTP/1.1 200 OK\"\n"
     ]
    }
   ],
   "source": [
    "from typing import Optional\n",
    "\n",
    "from azure.search.documents.models import VectorizableTextQuery\n",
    "\n",
    "def generate_chat_response(prompt: str, system_message: Optional[str] = None):\n",
    "    \"\"\"\n",
    "    Generates a single-turn chat response using Azure OpenAI Chat.\n",
    "    If you need multi-turn conversation or follow-up queries, you'll have to\n",
    "    maintain the messages list externally.\n",
    "    \"\"\"\n",
    "    messages = []\n",
    "    if system_message:\n",
    "        messages.append({\"role\": \"system\", \"content\": system_message})\n",
    "    messages.append({\"role\": \"user\", \"content\": prompt})\n",
    "\n",
    "    completion = openai_client.chat.completions.create(\n",
    "        model=AZURE_OPENAI_CHAT_MODEL_NAME, messages=messages, temperature=1\n",
    "    )\n",
    "    return completion.choices[0].message.content\n",
    "\n",
    "\n",
    "user_query = \"What are the Probationary period duration of 1-2 year employment contract as per the cao 2025-2027?\"\n",
    "user_embed = embed_text(user_query)\n",
    "\n",
    "vector_query = VectorizableTextQuery(\n",
    "    text=user_query,  # passing in text for a hybrid search\n",
    "    k_nearest_neighbors=5,\n",
    "    fields=VECTOR_FIELD_NAME,\n",
    ")"
   ]
  },
  {
   "cell_type": "code",
   "execution_count": 23,
   "id": "7bd19d43",
   "metadata": {},
   "outputs": [
    {
     "name": "stderr",
     "output_type": "stream",
     "text": [
      "2025-09-21 02:22:39,468 - INFO - Request URL: 'https://doc-intel-ais.search.windows.net/indexes('cao-rag-sample')/docs/search.post.search?api-version=REDACTED'\n",
      "Request method: 'POST'\n",
      "Request headers:\n",
      "    'Content-Type': 'application/json'\n",
      "    'Content-Length': '329'\n",
      "    'api-key': 'REDACTED'\n",
      "    'Accept': 'application/json;odata.metadata=none'\n",
      "    'x-ms-client-request-id': '14efa60f-9681-11f0-95e7-28a44ac6879c'\n",
      "    'User-Agent': 'azsdk-python-search-documents/11.5.3 Python/3.13.3 (Windows-11-10.0.26100-SP0)'\n",
      "A body is sent with the request\n",
      "2025-09-21 02:22:40,953 - INFO - Response status: 200\n",
      "Response headers:\n",
      "    'Transfer-Encoding': 'chunked'\n",
      "    'Content-Type': 'application/json; odata.metadata=none; odata.streaming=true; charset=utf-8'\n",
      "    'Content-Encoding': 'REDACTED'\n",
      "    'Vary': 'REDACTED'\n",
      "    'Strict-Transport-Security': 'REDACTED'\n",
      "    'Preference-Applied': 'REDACTED'\n",
      "    'OData-Version': 'REDACTED'\n",
      "    'request-id': '14efa60f-9681-11f0-95e7-28a44ac6879c'\n",
      "    'elapsed-time': 'REDACTED'\n",
      "    'Date': 'Sun, 21 Sep 2025 00:22:39 GMT'\n"
     ]
    }
   ],
   "source": [
    "search_results = search_client.search(\n",
    "    search_text=user_query, vector_queries=[vector_query], select=[CONTENT_FIELD_NAME], top=10\n",
    ")\n",
    "\n",
    "retrieved_chunks = []\n",
    "for result in search_results:\n",
    "    snippet = result[CONTENT_FIELD_NAME]\n",
    "    retrieved_chunks.append(snippet)"
   ]
  },
  {
   "cell_type": "code",
   "execution_count": 24,
   "id": "abed8669",
   "metadata": {},
   "outputs": [
    {
     "name": "stderr",
     "output_type": "stream",
     "text": [
      "2025-09-21 02:22:51,762 - INFO - HTTP Request: POST https://cao-intel-ai-services.openai.azure.com/openai/deployments/gpt-5-nano/chat/completions?api-version=2024-12-01-preview \"HTTP/1.1 200 OK\"\n"
     ]
    }
   ],
   "source": [
    "context_str = \"\\n---\\n\".join(retrieved_chunks)\n",
    "rag_prompt = f\"\"\"\n",
    "You are an AI assistant helping answering questions about Dutch CAO.\n",
    "Use ONLY the text below to answer the user's question.\n",
    "If the answer isn't in the text, say you don't know.\n",
    "\n",
    "Context:\n",
    "{context_str}\n",
    "\n",
    "Question: {user_query}\n",
    "Answer:\n",
    "\"\"\"\n",
    "\n",
    "final_answer = generate_chat_response(rag_prompt)"
   ]
  },
  {
   "cell_type": "code",
   "execution_count": 25,
   "id": "42ef3422",
   "metadata": {},
   "outputs": [
    {
     "name": "stdout",
     "output_type": "stream",
     "text": [
      "\n",
      "RAG Prompt and Response:\n",
      "\n",
      "You are an AI assistant helping answering questions about Dutch CAO.\n",
      "Use ONLY the text below to answer the user's question.\n",
      "If the answer isn't in the text, say you don't know.\n",
      "\n",
      "Context:\n",
      "- Deze cao geldt van 1 januari 2025 tot en met 31 maart 2027.\n",
      "- De cao wordt geacht telkens voor een jaar te zijn verlengd, tenzij een of meer cao-partijen deze hebben opgezegd.\n",
      "- Voor opzegging van de cao gelden de volgende regels:\n",
      "- -het moet ten minste drie maanden voorafgaand aan de einddatum gebeuren,\n",
      "- -bij aangetekend schrijven aan alle cao-partijen.\n",
      "- Heeft een cao-partij voorstellen ingediend om de cao aan te passen of te vernieuwen? Dan beginnen cao-partijen daar zo snel mogelijk onderhandelingen over.\n",
      "---\n",
      "duur arbeidsovereenkomst, 1 = specificatie. duur arbeidsovereenkomst, 2 = maximale proeftijd. duur arbeidsovereenkomst, 3 = maximale proeftijd. , 1 = . , 2 = bouwplaats. , 3 = uta. onbepaalde tijd, 1 = n.v.t.. onbepaalde tijd, 2 = 2 maanden. onbepaalde tijd, 3 = 2 maanden. bepaalde tijd, 1 = 6 maanden of korter. bepaalde tijd, 2 = geen proeftijd. bepaalde tijd, 3 = geen proeftijd. , 1 = langer dan 6 maanden, korter dan 1 jaar. , 2 = 2 weken. , 3 = 1 maand. , 1 = 1 tot 2 jaar. , 2 = 1 maand. , 3 = 1 maand. , 1 = 2 jaar of langer. , 2 = 2 maanden. , 3 = 2 maanden. , 1 = niet eindigend op een specifieke datum*. , 2 = . , 3 = 1 maand\n",
      "---\n",
      "korter dan 5 jaar, opzegtermijn werkgever = 1 maand. korter dan 5 jaar, opzegtermijn werknemer = 1 maand. 5 tot 10 jaar, opzegtermijn werkgever = 2 maanden. 5 tot 10 jaar, opzegtermijn werknemer = 1 maand. 10 tot 15 jaar, opzegtermijn werkgever = 3 maanden. 10 tot 15 jaar, opzegtermijn werknemer = 1 maand. 15 jaar of langer, opzegtermijn werkgever = 4 maanden. 15 jaar of langer, opzegtermijn werknemer = 1 maand\n",
      "---\n",
      "- Een aantal algemeen verbindend verklaarde bepalingen van deze cao geldt ook voor de werknemer die:\n",
      "- -in het kader van transnationale dienstverrichting, zoals bedoeld in artikel 1, lid 1 van de WagwEU,\n",
      "- -tijdelijk in Nederland arbeid verricht en\n",
      "- -van wie de arbeidsovereenkomst wordt beheerst door een ander recht dan het Nederlandse recht.\n",
      "- Voor deze werknemer geldt in ieder geval het volgende.\n",
      "- -Gedurende de eerste twaalf maanden: de bepalingen uit bijlage 6 van deze cao.\n",
      "- -Met ingang van de dertiende maand: alle algemeen verbindend verklaarde bepalingen van deze cao. Dit geldt niet voor de bepalingen over procedures, formaliteiten en voorwaarden voor het sluiten en beëindigen van de arbeidsovereenkomst en over aanvullende bedrijfspensioenregelingen.\n",
      "---\n",
      "Tabel 5.1  Toeslag en bonus schadevrij rijden bouwplaatswerknemer in een chauffeursfunctie\n",
      "\n",
      "1 kwartaal (toeslag per kwartaal), 1/1/2025 (periode 1) = € 12,44. 1 kwartaal (toeslag per kwartaal), 1/5/2025 (periode 5) = € 12,88. 1 kwartaal (toeslag per kwartaal), 1/7/2025 (periode 8) = € 13,01. 1 kwartaal (toeslag per kwartaal), 1/1/2026 (periode 1) = € 13,53. 1 kwartaal (toeslag per kwartaal), 1/1/2027 (periode 1) = € 13,73. 2 kwartalen (toeslag per kwartaal), 1/1/2025 (periode 1) = € 13,90. 2 kwartalen (toeslag per kwartaal), 1/5/2025 (periode 5) = € 14,39. 2 kwartalen (toeslag per kwartaal), 1/7/2025 (periode 8) = € 14,53. 2 kwartalen (toeslag per kwartaal), 1/1/2026 (periode 1) = € 15,11. 2 kwartalen (toeslag per kwartaal), 1/1/2027 (periode 1) = € 15,34. 3 of meer kwartalen (toeslag per kwartaal), 1/1/2025 (periode 1) = € 15,20. 3 of meer kwartalen (toeslag per kwartaal), 1/5/2025 (periode 5) = € 15,73. 3 of meer kwartalen (toeslag per kwartaal), 1/7/2025 (periode 8) = € 15,89. 3 of meer kwartalen (toeslag per kwartaal), 1/1/2026 (periode 1) = € 16,53. 3 of meer kwartalen (toeslag per kwartaal), 1/1/2027 (periode 1) = € 16,78. 3 of meer jaren (bonus per jaar bovenop de toeslag), 1/1/2025 (periode 1) = € 21,42. 3 of meer jaren (bonus per jaar bovenop de toeslag), 1/5/2025 (periode 5) = € 22,17. 3 of meer jaren (bonus per jaar bovenop de toeslag), 1/7/2025 (periode 8) = € 22,39. 3 of meer jaren (bonus per jaar bovenop de toeslag), 1/1/2026 (periode 1) = € 23,29. 3 of meer jaren (bonus per jaar bovenop de toeslag), 1/1/2027 (periode 1) = € 23,64\n",
      "---\n",
      "Tabel 4.4.2  Garantieloon leerlingwerknemer tijdens bbl 2 of tweejarig bbl 3 (euro per uur)\n",
      "\n",
      "16, tijdens bbl 2 of tweejarig bbl 3 = bbl 2. 16, 1/1/2025 (periode 1) = 6,17. 16, 1/5/2025 (periode 5) = 6,39. 16, 1/7/2025 (periode 8) = 6,45. 16, 1/1/2026 (periode 1) = 6,71. 16, 1/1/2027 (periode 1) = 6,81. , tijdens bbl 2 of tweejarig bbl 3 = bbl 3, 1e jaar. , 1/1/2025 (periode 1) = 6,92. , 1/5/2025 (periode 5) = 7,16. , 1/7/2025 (periode 8) = 7,23. , 1/1/2026 (periode 1) = 7,52. , 1/1/2027 (periode 1) = 7,63. , tijdens bbl 2 of tweejarig bbl 3 = bbl 3, 2e jaar. , 1/1/2025 (periode 1) = 7,72. , 1/5/2025 (periode 5) = 7,99. , 1/7/2025 (periode 8) = 8,07. , 1/1/2026 (periode 1) = 8,39. , 1/1/2027 (periode 1) = 8,52. 17, tijdens bbl 2 of tweejarig bbl 3 = bbl 2. 17, 1/1/2025 (periode 1) = 7,03. 17, 1/5/2025 (periode 5) = 7,28. 17, 1/7/2025 (periode 8) = 7,35. 17, 1/1/2026 (periode 1) = 7,64. 17, 1/1/2027 (periode 1) = 7,75. , tijdens bbl 2 of tweejarig bbl 3 = bbl 3, 1e jaar. , 1/1/2025 (periode 1) = 7,86. , 1/5/2025 (periode 5) = 8,14. , 1/7/2025 (periode 8) = 8,22. , 1/1/2026 (periode 1) = 8,55. , 1/1/2027 (periode 1) = 8,68. , tijdens bbl 2 of tweejarig bbl 3 = bbl 3, 2e jaar. , 1/1/2025 (periode 1) = 8,73. , 1/5/2025 (periode 5) = 9,04. , 1/7/2025 (periode 8) = 9,13. , 1/1/2026 (periode 1) = 9,50. , 1/1/2027 (periode 1) = 9,64. 18, tijdens bbl 2 of tweejarig bbl 3 = bbl 2. 18, 1/1/2025 (periode 1) = 7,98. 18, 1/5/2025 (periode 5) = 8,26. 18, 1/7/2025 (periode 8) = 8,34. 18, 1/1/2026 (periode 1) = 8,67. 18, 1/1/2027 (periode 1) = 8,80. , tijdens bbl 2 of tweejarig bbl 3 = bbl 3, 1e jaar. , 1/1/2025 (periode 1) = 8,93. , 1/5/2025 (periode 5) = 9,24. , 1/7/2025 (periode 8) = 9,33. , 1/1/2026 (periode 1) = 9,70. , 1/1/2027 (periode 1) = 9,85. , tijdens bbl 2 of tweejarig bbl 3 = bbl 3, 2e jaar. , 1/1/2025 (periode 1) = 9,99. , 1/5/2025 (periode 5) = 10,34. , 1/7/2025 (periode 8) = 10,44. , 1/1/2026 (periode 1) = 10,86. , 1/1/2027 (periode 1) = 11,02. 19, tijdens bbl 2 of tweejarig bbl 3 = bbl 2. 19, 1/1/2025 (periode 1) = 9,14. 19, 1/5/2025 (periode 5) = 9,46. 19, 1/7/2025 (periode 8) = 9,55. 19, 1/1/2026 (periode 1) = 9,93. 19, 1/1/2027 (periode 1) = 10,08. , tijdens bbl 2 of tweejarig bbl 3 = bbl 3, 1e jaar. , 1/1/2025 (periode 1) = 10,18. , 1/5/2025 (periode 5) = 10,54. , 1/7/2025 (periode 8) = 10,65. , 1/1/2026 (periode 1) = 11,08. , 1/1/2027 (periode 1) = 11,25. , tijdens bbl 2 of tweejarig bbl 3 = bbl 3, 2e jaar. , 1/1/2025 (periode 1) = 11,41. , 1/5/2025 (periode 5) = 11,81. , 1/7/2025 (periode 8) = 11,93. , 1/1/2026 (periode 1) = 12,41. , 1/1/2027 (periode 1) = 12,60. 20, tijdens bbl 2 of tweejarig bbl 3 = bbl 2. 20, 1/1/2025 (periode 1) = 10,63. 20, 1/5/2025 (periode 5) = 12,58. 20, 1/7/2025 (periode 8) = 12,71. 20, 1/1/2026 (periode 1) = 13,22. 20, 1/1/2027 (periode 1) = 13,42. , tijdens bbl 2 of tweejarig bbl 3 = bbl 3, 1e jaar. , 1/1/2025 (periode 1) = 11,83. , 1/5/2025 (periode 5) = 13,69. , 1/7/2025 (periode 8) = 13,83. , 1/1/2026 (periode 1) = 14,38. , 1/1/2027 (periode 1) = 14,60. , tijdens bbl 2 of tweejarig bbl 3 = bbl 3, 2e jaar. , 1/1/2025 (periode 1) = 13,26. , 1/5/2025 (periode 5) = 14,66. , 1/7/2025 (periode 8) = 14,81. , 1/1/2026 (periode 1) = 15,40. , 1/1/2027 (periode 1) = 15,63. 21 of ouder, tijdens bbl 2 of tweejarig bbl 3 = bbl 2. 21 of ouder, 1/1/2025 (periode 1) = 15,16. 21 of ouder, 1/5/2025 (periode 5) = 15,69. 21 of ouder, 1/7/2025 (periode 8) = 15,85. 21 of ouder, 1/1/2026 (periode 1) = 16,48. 21 of ouder, 1/1/2027 (periode 1) = 16,73. 21 of ouder, tijdens bbl 2 of tweejarig bbl 3 = bbl 3, 1e jaar. 21 of ouder, 1/1/2025 (periode 1) = 16,27. 21 of ouder, 1/5/2025 (periode 5) = 16,84. 21 of ouder, 1/7/2025 (periode 8) = 17,01. 21 of ouder, 1/1/2026 (periode 1) = 17,69. 21 of ouder, 1/1/2027 (periode 1) = 17,96. 21 of ouder, tijdens bbl 2 of tweejarig bbl 3 = bbl 3, 2e jaar. 21 of ouder, 1/1/2025 (periode 1) = 16,91. 21 of ouder, 1/5/2025 (periode 5) = 17,50. 21 of ouder, 1/7/2025 (periode 8) = 17,68. 21 of ouder, 1/1/2026 (periode 1) = 18,39. 21 of ouder, 1/1/2027 (periode 1) = 18,67\n",
      "---\n",
      "- Een proeftijd geldt alleen als die in de arbeidsovereenkomst is vastgelegd.\n",
      "- Hoe lang een proeftijd mag duren, hangt af van de duur van de arbeidsovereenkomst. Zie tabel 1.3.3.\n",
      "---\n",
      "Tabel 5.2  Toeslag beschikbaarheidsdienst bouwplaatswerknemer\n",
      "\n",
      "maandag tot en met vrijdag, minimum toeslag (per dag).1/1/2025 (periode 1) = € 15,30. maandag tot en met vrijdag, minimum toeslag (per dag).1/5/2025 (periode 5) = € 15,84. maandag tot en met vrijdag, minimum toeslag (per dag).1/7/2025 (periode 8) = € 16,00. maandag tot en met vrijdag, minimum toeslag (per dag).1/1/2026 (periode 1) = € 16,64. maandag tot en met vrijdag, minimum toeslag (per dag).1/1/2027 (periode 1) = € 16,89. zaterdag, minimum toeslag (per dag).1/1/2025 (periode 1) = € 23,54. zaterdag, minimum toeslag (per dag).1/5/2025 (periode 5) = € 24,36. zaterdag, minimum toeslag (per dag).1/7/2025 (periode 8) = € 24,60. zaterdag, minimum toeslag (per dag).1/1/2026 (periode 1) = € 25,58. zaterdag, minimum toeslag (per dag).1/1/2027 (periode 1) = € 25,96. zondag of in deze cao erkende feestdag, minimum toeslag (per dag).1/1/2025 (periode 1) = € 30,59. zondag of in deze cao erkende feestdag, minimum toeslag (per dag).1/5/2025 (periode 5) = € 31,66. zondag of in deze cao erkende feestdag, minimum toeslag (per dag).1/7/2025 (periode 8) = € 31,98. zondag of in deze cao erkende feestdag, minimum toeslag (per dag).1/1/2026 (periode 1) = € 33,26. zondag of in deze cao erkende feestdag, minimum toeslag (per dag).1/1/2027 (periode 1) = € 33,76\n",
      "---\n",
      "Tabel 6.3.2  Garantieloon leerlingwerknemer tijdens beroepsopleiding in de bouw & infra (euro per uur)*\n",
      "\n",
      "16, 1/1/2025 (periode 1) = 6,17. 16, 1/5/2025 (periode 5) = 6,39. 16, 1/7/2025 (periode 8) = 6,45. 16, 1-1-2026 (periode 1) = 6,71. 16, 1/1/2027 (periode 1) = 6,81. 17, 1/1/2025 (periode 1) = 7,03. 17, 1/5/2025 (periode 5) = 7,28. 17, 1/7/2025 (periode 8) = 7,35. 17, 1-1-2026 (periode 1) = 7,64. 17, 1/1/2027 (periode 1) = 7,75. 18, 1/1/2025 (periode 1) = 7,98. 18, 1/5/2025 (periode 5) = 8,26. 18, 1/7/2025 (periode 8) = 8,34. 18, 1-1-2026 (periode 1) = 8,67. 18, 1/1/2027 (periode 1) = 8,80. 19, 1/1/2025 (periode 1) = 9,14. 19, 1/5/2025 (periode 5) = 9,46. 19, 1/7/2025 (periode 8) = 9,55. 19, 1-1-2026 (periode 1) = 9,93. 19, 1/1/2027 (periode 1) = 10,08. 20, 1/1/2025 (periode 1) = 10,63. 20, 1/5/2025 (periode 5) = 12,58. 20, 1/7/2025 (periode 8) = 12,71. 20, 1-1-2026 (periode 1) = 13,22. 20, 1/1/2027 (periode 1) = 13,42. 21 of ouder, 1/1/2025 (periode 1) = 15,16. 21 of ouder, 1/5/2025 (periode 5) = 15,69. 21 of ouder, 1/7/2025 (periode 8) = 15,85. 21 of ouder, 1-1-2026 (periode 1) = 16,48. 21 of ouder, 1/1/2027 (periode 1) = 16,73\n",
      "---\n",
      "Tabel 5.6  Leermeestertoeslag bouwplaatswerknemer\n",
      "\n",
      "1 januari 2025 (periode 1), algemeen (per week) = € 80,48. 1 januari 2025 (periode 1), steigerbouw (per week) = € 40,08. 1 mei 2025 (periode 5), algemeen (per week) = € 83,30. 1 mei 2025 (periode 5), steigerbouw (per week) = € 41,30. 1 juli 2025 (periode 8), algemeen (per week) = € 84,13. 1 juli 2025 (periode 8), steigerbouw (per week) = € 41,73. 1 januari 2026 (periode 1), algemeen (per week) = € 87,50. 1 januari 2026 (periode 1), steigerbouw (per week) = € 43,50. 1 januari 2027 (periode 1), algemeen (per week) = € 88,81. 1 januari 2027 (periode 1), steigerbouw (per week) = € 44,01\n",
      "\n",
      "Question: What are the Probationary period duration of 1-2 year employment contract as per the cao 2025-2027?\n",
      "Answer:\n",
      "\n"
     ]
    }
   ],
   "source": [
    "print(\"\\nRAG Prompt and Response:\")\n",
    "print(rag_prompt)"
   ]
  },
  {
   "cell_type": "code",
   "execution_count": 26,
   "id": "58581947",
   "metadata": {},
   "outputs": [
    {
     "name": "stdout",
     "output_type": "stream",
     "text": [
      "\n",
      "Final Answer:\n",
      "1 maand.\n"
     ]
    }
   ],
   "source": [
    "print(\"\\nFinal Answer:\")\n",
    "print(final_answer)"
   ]
  }
 ],
 "metadata": {
  "kernelspec": {
   "display_name": "cao-processor",
   "language": "python",
   "name": "python3"
  },
  "language_info": {
   "codemirror_mode": {
    "name": "ipython",
    "version": 3
   },
   "file_extension": ".py",
   "mimetype": "text/x-python",
   "name": "python",
   "nbconvert_exporter": "python",
   "pygments_lexer": "ipython3",
   "version": "3.13.3"
  }
 },
 "nbformat": 4,
 "nbformat_minor": 5
}
